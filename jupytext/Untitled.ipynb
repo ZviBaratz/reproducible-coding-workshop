{
 "cells": [
  {
   "cell_type": "markdown",
   "id": "662d1faa-f0ec-4ac5-9a71-35a830b8a113",
   "metadata": {},
   "source": [
    "## This is an example notebook"
   ]
  },
  {
   "cell_type": "code",
   "execution_count": 2,
   "id": "c2210494-8f5d-4abb-996e-b3e0b948abf6",
   "metadata": {},
   "outputs": [],
   "source": [
    "import os\n"
   ]
  },
  {
   "cell_type": "markdown",
   "id": "607fca74-c11d-482a-bd00-23e79b586924",
   "metadata": {},
   "source": [
    "Include some rather unpythonic code: https://docs.quantifiedcode.com/python-anti-patterns/readability/using_an_unpythonic_loop.html"
   ]
  },
  {
   "cell_type": "code",
   "execution_count": 2,
   "id": "ff821c34-0619-48a9-9875-b4ee78286f37",
   "metadata": {},
   "outputs": [
    {
     "name": "stdout",
     "output_type": "stream",
     "text": [
      "0 1\n",
      "1 2\n",
      "2 3\n"
     ]
    }
   ],
   "source": [
    "list=[1,2,3]\n",
    "\n",
    "# creating index variable\n",
    "for i in range(0,len(list)):\n",
    "    # using index to access list\n",
    "    le=list[i]\n",
    "    print(i+1,le)"
   ]
  },
  {
   "cell_type": "code",
   "execution_count": null,
   "id": "fea42050-9862-4bb2-9171-32c3d4f7cdb8",
   "metadata": {},
   "outputs": [],
   "source": []
  }
 ],
 "metadata": {
  "kernelspec": {
   "display_name": "Python 3 (ipykernel)",
   "language": "python",
   "name": "python3"
  },
  "language_info": {
   "codemirror_mode": {
    "name": "ipython",
    "version": 3
   },
   "file_extension": ".py",
   "mimetype": "text/x-python",
   "name": "python",
   "nbconvert_exporter": "python",
   "pygments_lexer": "ipython3",
   "version": "3.9.13"
  }
 },
 "nbformat": 4,
 "nbformat_minor": 5
}
